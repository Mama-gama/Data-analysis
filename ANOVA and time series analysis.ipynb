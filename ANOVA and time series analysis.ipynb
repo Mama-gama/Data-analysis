{
 "cells": [
  {
   "cell_type": "code",
   "execution_count": 3,
   "id": "77bbda19",
   "metadata": {},
   "outputs": [
    {
     "name": "stdout",
     "output_type": "stream",
     "text": [
      "Average mark for college A: 25.0\n",
      "Average mark for college B: 26.5\n",
      "Average mark for college C: 26.0\n",
      "Overall mean: 25.833333333333332\n",
      "Between-groups Sum of Squared Differences: 6.999999999999999\n",
      "Between-groups Mean Square value: 3.4999999999999996\n",
      "Within-group Sum of Squared Differences: 223.5\n",
      "Within-group Mean Square value: 14.9\n",
      "F-score: 4.257142857142858\n",
      "F_onewayResult(statistic=0.2348993288590604, pvalue=0.793504662732833)\n"
     ]
    }
   ],
   "source": [
    "# ANOVA Analysis\n",
    "import pandas as pd\n",
    "import numpy as np\n",
    "import scipy.stats as stats\n",
    "a=[25,25,27,30,23,20]\n",
    "b=[30,30,21,24,26,28]\n",
    "c=[18,30,29,29,24,26]\n",
    "list_of_tuples = list(zip(a, b,c))\n",
    "df = pd.DataFrame(list_of_tuples, columns = ['A', 'B', 'C']) \n",
    "df\n",
    "m1=np.mean(a)\n",
    "m2=np.mean(b)\n",
    "m3=np.mean(c)\n",
    "print('Average mark for college A: {}'.format(m1)) \n",
    "print('Average mark for college B: {}'.format(m2)) \n",
    "print('Average mark for college C: {}'.format(m3)) \n",
    "m=(m1+m2+m3)/3\n",
    "print('Overall mean: {}'.format(m)) \n",
    "SSb=6*((m1-m)**2+(m2-m)**2+(m3-m)**2) \n",
    "print('Between-groups Sum of Squared Differences: {}'.format(SSb)) \n",
    "MSb=SSb/2\n",
    "print('Between-groups Mean Square value: {}'.format(MSb)) \n",
    "err_a=list(a-m1)\n",
    "err_b=list(b-m2)\n",
    "err_c=list(c-m3)\n",
    "err=err_a+err_b+err_c\n",
    "ssw=[]\n",
    "for i in err:\n",
    "    ssw.append(i**2)\n",
    "SSw=np.sum(ssw)\n",
    "print('Within-group Sum of Squared Differences: {}'.format(SSw)) \n",
    "MSw=SSw/15\n",
    "print('Within-group Mean Square value: {}'.format(MSw))\n",
    "if(MSb>MSw):\n",
    "    F=MSb/MSw\n",
    "    print('F-score: {}'.format(F))\n",
    "    print(stats.f_oneway(a,b,c))\n",
    "else:\n",
    "    F=MSw/MSb\n",
    "    print('F-score: {}'.format(F))\n",
    "    print(stats.f_oneway(a,b,c))\n",
    "    \n",
    "#idhuve easy ya dhan irrukku"
   ]
  },
  {
   "cell_type": "code",
   "execution_count": 2,
   "id": "2b55afc2",
   "metadata": {},
   "outputs": [
    {
     "name": "stdout",
     "output_type": "stream",
     "text": [
      "   total_bill   tip     sex smoker  day    time  size\n",
      "0       16.99  1.01  Female     No  Sun  Dinner     2\n",
      "1       10.34  1.66    Male     No  Sun  Dinner     3\n",
      "2       21.01  3.50    Male     No  Sun  Dinner     3\n",
      "3       23.68  3.31    Male     No  Sun  Dinner     2\n",
      "4       24.59  3.61  Female     No  Sun  Dinner     4\n"
     ]
    },
    {
     "data": {
      "image/png": "[encoded data removed]",
      "text/plain": [
       "<Figure size 1080x432 with 1 Axes>"
      ]
     },
     "metadata": {
      "needs_background": "light"
     },
     "output_type": "display_data"
    }
   ],
   "source": [
    "#time series analysis\n",
    "\n",
    "from datetime import datetime\n",
    "import pandas as pd\n",
    "import matplotlib.pyplot as plt\n",
    "# Seaborn for plotting and styling\n",
    "import seaborn as sb\n",
    "df = sb.load_dataset('tips')\n",
    "print (df.head())\n",
    "df['total_bill'] = pd.to_datetime(df['total_bill'])\n",
    "df.index = df['total_bill']\n",
    "del df['total_bill']\n",
    "df.plot(figsize=(15, 6))\n",
    "plt.show()"
   ]
  },
  {
   "cell_type": "code",
   "execution_count": null,
   "id": "b9769dba",
   "metadata": {},
   "outputs": [],
   "source": []
  }
 ],
 "metadata": {
  "kernelspec": {
   "display_name": "Python 3",
   "language": "python",
   "name": "python3"
  },
  "language_info": {
   "codemirror_mode": {
    "name": "ipython",
    "version": 3
   },
   "file_extension": ".py",
   "mimetype": "text/x-python",
   "name": "python",
   "nbconvert_exporter": "python",
   "pygments_lexer": "ipython3",
   "version": "3.8.8"
  }
 },
 "nbformat": 4,
 "nbformat_minor": 5
}
