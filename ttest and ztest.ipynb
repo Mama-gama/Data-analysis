{
 "cells": [
  {
   "cell_type": "code",
   "execution_count": 27,
   "id": "7b71aab2",
   "metadata": {
    "scrolled": false
   },
   "outputs": [
    {
     "name": "stdout",
     "output_type": "stream",
     "text": [
      "Ttest_indResult(statistic=-0.9405596714608077, pvalue=0.3480766155641778)\n"
     ]
    }
   ],
   "source": [
    "#two sample ttest:\n",
    "from scipy.stats import ttest_ind\n",
    "import numpy as np\n",
    "import random\n",
    "a=np.random.normal(0,11.9,100)\n",
    "b=np.random.normal(1,12.8,100)\n",
    "ttest=ttest_ind(a,b)\n",
    "print(ttest)"
   ]
  },
  {
   "cell_type": "code",
   "execution_count": 29,
   "id": "24953929",
   "metadata": {
    "scrolled": false
   },
   "outputs": [
    {
     "name": "stdout",
     "output_type": "stream",
     "text": [
      "[ -3.82483304  -2.00006097   1.17880249 -22.16229093  -5.80643753\n",
      "  -7.36675834 -31.98342745   8.2475619   16.77833599   6.8550183 ]\n",
      "Ttest_1sampResult(statistic=-2.2027632837458566, pvalue=0.05509174162837309)\n"
     ]
    }
   ],
   "source": [
    "#one sample ttest:\n",
    "from scipy import stats as st\n",
    "import numpy as np\n",
    "import random\n",
    "x=np.random.normal(1,12.9,10)\n",
    "print(x)\n",
    "t_test=st.ttest_1samp(x,6)\n",
    "print(t_test)"
   ]
  },
  {
   "cell_type": "code",
   "execution_count": 43,
   "id": "b850dd2b",
   "metadata": {
    "scrolled": false
   },
   "outputs": [
    {
     "name": "stdout",
     "output_type": "stream",
     "text": [
      "(-3.640487595530384, 0.00027212221833431376)\n"
     ]
    }
   ],
   "source": [
    "#one sample z-test\n",
    "from statsmodels.stats.weightstats import ztest as ztest\n",
    "data = [88, 92, 94, 94, 96, 97, 97, 97, 99, 99,\n",
    "        105, 109, 109, 109, 110, 112, 112, 113, 114, 115]\n",
    "z1=ztest(data, value=110)\n",
    "print(z1)"
   ]
  },
  {
   "cell_type": "code",
   "execution_count": 42,
   "id": "65103a05",
   "metadata": {
    "scrolled": true
   },
   "outputs": [
    {
     "name": "stdout",
     "output_type": "stream",
     "text": [
      "(-87.84365596503996, 0.0)\n"
     ]
    }
   ],
   "source": [
    "#two sample z-test\n",
    "from statsmodels.stats.weightstats import ztest as ztest\n",
    "data1 = [88, 92, 94, 94, 96, 97, 97, 97, 99, 99]\n",
    "data2 = [105, 109, 109, 109, 110, 112, 112, 113, 114, 115]\n",
    "z2=ztest(data1,data2,value=110)\n",
    "print(z2)"
   ]
  },
  {
   "cell_type": "code",
   "execution_count": 9,
   "id": "ee568cc2",
   "metadata": {},
   "outputs": [
    {
     "name": "stdout",
     "output_type": "stream",
     "text": [
      "  align choice  time  coherence  firing_rate\n",
      "0  dots     T1   -80        0.0    33.189967\n",
      "1  dots     T1   -80        3.2    31.691726\n",
      "2  dots     T1   -80        6.4    34.279840\n",
      "3  dots     T1   -80       12.8    32.631874\n",
      "4  dots     T1   -80       25.6    35.060487\n",
      "Ttest_indResult(statistic=-39.476594295394655, pvalue=3.1596692809063068e-242)\n"
     ]
    }
   ],
   "source": [
    "#ttest using dataset\n",
    "\n",
    "import seaborn as sb\n",
    "from scipy.stats import ttest_ind\n",
    "dt=sb.load_dataset('dots')\n",
    "print(dt.head())\n",
    "x=dt.coherence\n",
    "y=dt.firing_rate\n",
    "ttest_val=ttest_ind(x,y)\n",
    "print(ttest_val)"
   ]
  },
  {
   "cell_type": "code",
   "execution_count": 10,
   "id": "ebacc985",
   "metadata": {},
   "outputs": [
    {
     "name": "stdout",
     "output_type": "stream",
     "text": [
      "0.0\n",
      "5.0\n",
      "5a\n",
      "\n",
      "Ttest_1sampResult(statistic=1.0, pvalue=0.49999999999999956)\n",
      "5b\n",
      "\n",
      "-2.0095752344892093\n",
      "5c\n",
      "\n",
      "2.009575234489209\n",
      "5d\n",
      "\n",
      "0.013121066545690117\n",
      "5e\n",
      "\n",
      "(2.990424765510791, 7.009575234489208)\n",
      "5f\n",
      "\n",
      "(2.32004802636845, 7.67995197363155)\n",
      "5g\n",
      "\n"
     ]
    }
   ],
   "source": [
    "import numpy as np\n",
    "from scipy import stats \n",
    "population_ages=np.arange(0,11.9,100) \n",
    "minnesota_ages=np.arange(0,11.9,10)\n",
    "#5a-mean of population and sample\n",
    "print(population_ages.mean())\n",
    "print(minnesota_ages.mean())\n",
    "print(\"5a\\n\")\n",
    "#5b- 1 sample test\n",
    "sa=stats.ttest_1samp(a=minnesota_ages,popmean=population_ages.mean()) \n",
    "print(sa)\n",
    "print(\"5b\\n\")\n",
    "#5c - ppf\n",
    "sa=stats.t.ppf(q=0.025, df=49)\n",
    "print(sa)\n",
    "print(\"5c\\n\")\n",
    "#5d - ppf\n",
    "sa=stats.t.ppf(q=0.975, df=49)\n",
    "print(sa)\n",
    "print(\"5d\\n\")\n",
    "#5e - cdf\n",
    "sa=stats.t.cdf(x=-2.5742, df=49)*2\n",
    "print(sa)\n",
    "print(\"5e\\n\")\n",
    "#5f - p value\n",
    "sa=stats.t.interval(alpha=0.95, df=49, loc=minnesota_ages.mean()) \n",
    "print(sa)\n",
    "print(\"5f\\n\")\n",
    "#5g - p value\n",
    "sa=stats.t.interval(alpha=0.99, df=49, loc=minnesota_ages.mean()) \n",
    "print(sa)\n",
    "print(\"5g\\n\")"
   ]
  },
  {
   "cell_type": "code",
   "execution_count": null,
   "id": "dcc3246a",
   "metadata": {},
   "outputs": [],
   "source": []
  }
 ],
 "metadata": {
  "kernelspec": {
   "display_name": "Python 3",
   "language": "python",
   "name": "python3"
  },
  "language_info": {
   "codemirror_mode": {
    "name": "ipython",
    "version": 3
   },
   "file_extension": ".py",
   "mimetype": "text/x-python",
   "name": "python",
   "nbconvert_exporter": "python",
   "pygments_lexer": "ipython3",
   "version": "3.8.8"
  }
 },
 "nbformat": 4,
 "nbformat_minor": 5
}
